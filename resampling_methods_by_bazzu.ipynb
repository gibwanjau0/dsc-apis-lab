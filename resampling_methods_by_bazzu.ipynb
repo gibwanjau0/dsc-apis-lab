{
  "nbformat": 4,
  "nbformat_minor": 0,
  "metadata": {
    "colab": {
      "provenance": [],
      "authorship_tag": "ABX9TyOurAOPQ5k56xSM8llUtEby",
      "include_colab_link": true
    },
    "kernelspec": {
      "name": "python3",
      "display_name": "Python 3"
    },
    "language_info": {
      "name": "python"
    }
  },
  "cells": [
    {
      "cell_type": "markdown",
      "metadata": {
        "id": "view-in-github",
        "colab_type": "text"
      },
      "source": [
        "<a href=\"https://colab.research.google.com/github/gibwanjau0/dsc-apis-lab/blob/master/resampling_methods_by_bazzu.ipynb\" target=\"_parent\"><img src=\"https://colab.research.google.com/assets/colab-badge.svg\" alt=\"Open In Colab\"/></a>"
      ]
    },
    {
      "cell_type": "markdown",
      "source": [
        "Resampling methods are methods that eithe repeat sampling froma a given sample of a population to draw cartain conclusions. mistly the draw precision of a statistic.\n"
      ],
      "metadata": {
        "id": "l4LHCbg6E_X6"
      }
    },
    {
      "cell_type": "code",
      "execution_count": null,
      "metadata": {
        "id": "63-Yy4mlEzIO"
      },
      "outputs": [],
      "source": []
    },
    {
      "cell_type": "markdown",
      "source": [
        "***PERMUTATION TESTING***"
      ],
      "metadata": {
        "id": "oVZDZ5QCFo5M"
      }
    },
    {
      "cell_type": "markdown",
      "source": [
        "*EXAMPLE* "
      ],
      "metadata": {
        "id": "covwHIsjE9cN"
      }
    },
    {
      "cell_type": "code",
      "source": [],
      "metadata": {
        "id": "wA_TYOTdF5rf"
      },
      "execution_count": null,
      "outputs": []
    },
    {
      "cell_type": "markdown",
      "source": [
        "Note that these are actually combinations! However, as noted previously, permutation tests really investigate possible regroupings of the data observations, so calculating combinations is a more efficient approach!\n",
        "\n",
        "THE GENERAL WAY OF DOING A PERMUTATION TEST IN PYTHON IS"
      ],
      "metadata": {
        "id": "-opwpNgdGamX"
      }
    },
    {
      "cell_type": "code",
      "source": [
        "from itertools import combinations\n",
        "\n",
        "def combT(a, b):\n",
        "    union = sorted(a + b)\n",
        "    all_combs = []\n",
        "    for x in set(combinations(union, len(a))):\n",
        "        union_copy = union.copy()\n",
        "        for y in x:\n",
        "            union_copy.remove(y)\n",
        "        all_combs.append((list(x), list(combinations(union_copy, len(union) - len(a)))))\n",
        "    return all_combs"
      ],
      "metadata": {
        "id": "Sa05hEQ7GtSZ"
      },
      "execution_count": 1,
      "outputs": []
    },
    {
      "cell_type": "code",
      "source": [],
      "metadata": {
        "id": "-rYYPTHnHCVa"
      },
      "execution_count": null,
      "outputs": []
    },
    {
      "cell_type": "markdown",
      "source": [
        "EXAMPLE"
      ],
      "metadata": {
        "id": "3EqVV4lEHuQX"
      }
    },
    {
      "cell_type": "code",
      "source": [],
      "metadata": {
        "id": "BUhi1CF3HxCg"
      },
      "execution_count": null,
      "outputs": []
    },
    {
      "cell_type": "markdown",
      "source": [
        "Define a function that generates all possible, equally sized, two set splits of two sets A and B. Sets A and B need not be the same size, but all of the generated two set splits should be of equal size. For example, if we had a set with 5 members and a set with 7 members, the function would return all possible 5-7 ordered splits of the 12 items."
      ],
      "metadata": {
        "id": "JoMazzUfH2Ky"
      }
    },
    {
      "cell_type": "code",
      "source": [
        "A = [1, 2, 2]\n",
        "B = [1, 3]"
      ],
      "metadata": {
        "id": "wpTBQc-bH3zd"
      },
      "execution_count": 2,
      "outputs": []
    },
    {
      "cell_type": "code",
      "source": [
        "combT(A,B)"
      ],
      "metadata": {
        "colab": {
          "base_uri": "https://localhost:8080/"
        },
        "id": "q99lr5YBH7PY",
        "outputId": "9aef78b9-12b5-46cc-b6db-08adb48b019e"
      },
      "execution_count": 3,
      "outputs": [
        {
          "output_type": "execute_result",
          "data": {
            "text/plain": [
              "[([2, 2, 3], [(1, 1)]),\n",
              " ([1, 1, 3], [(2, 2)]),\n",
              " ([1, 2, 3], [(1, 2)]),\n",
              " ([1, 1, 2], [(2, 3)]),\n",
              " ([1, 2, 2], [(1, 3)])]"
            ]
          },
          "metadata": {},
          "execution_count": 3
        }
      ]
    },
    {
      "cell_type": "markdown",
      "source": [
        "EXAMPLE2"
      ],
      "metadata": {
        "id": "mB8BdBKrIDkq"
      }
    },
    {
      "cell_type": "markdown",
      "source": [
        "in the data provided below we will apply the permutation test in evaluating our data"
      ],
      "metadata": {
        "id": "dl5QMHyTJn1d"
      }
    },
    {
      "cell_type": "code",
      "source": [
        "x = [109.6927759 , 120.27296943, 103.54012038, 114.16555857,\n",
        "       122.93336175, 110.9271756 , 114.77443758, 116.34159338,\n",
        "       112.66413025, 118.30562665, 132.31196515, 117.99000948]\n",
        "y = [123.98967482, 141.11969004, 117.00293412, 121.6419775 ,\n",
        "       123.2703033 , 123.76944385, 105.95249634, 114.87114479,\n",
        "       130.6878082 , 140.60768727, 121.95433026, 123.11996767,\n",
        "       129.93260914, 121.01049611]"
      ],
      "metadata": {
        "id": "qz43Fo77J9fw"
      },
      "execution_count": 5,
      "outputs": []
    },
    {
      "cell_type": "code",
      "source": [
        "combination = combT(x, y)"
      ],
      "metadata": {
        "colab": {
          "base_uri": "https://localhost:8080/"
        },
        "id": "jjVJJHs3KEh4",
        "outputId": "c6a0aa35-6de0-4d33-e783-d04b13910855"
      },
      "execution_count": 6,
      "outputs": [
        {
          "output_type": "execute_result",
          "data": {
            "text/plain": [
              "9657700"
            ]
          },
          "metadata": {},
          "execution_count": 6
        }
      ]
    },
    {
      "cell_type": "code",
      "source": [
        "import numpy as np\n",
        "from scipy.special import comb\n",
        "n_items = len(a)+len(b)\n",
        "unique = len(set(a+b))\n",
        "sample_size = len(a)\n",
        "\n",
        "print(n_items, sample_size)\n",
        "print(comb(n_items, sample_size))"
      ],
      "metadata": {
        "colab": {
          "base_uri": "https://localhost:8080/"
        },
        "id": "9Oh7ZteTKrqo",
        "outputId": "204adb59-1c4a-4e53-fc1a-0f7cda13ca51"
      },
      "execution_count": 12,
      "outputs": [
        {
          "output_type": "stream",
          "name": "stdout",
          "text": [
            "26 12\n",
            "9657700.0\n"
          ]
        }
      ]
    },
    {
      "cell_type": "code",
      "source": [
        "diff_mu_x_y = np.mean(x) - np.mean(y)\n",
        "combos = combT(x, y)\n",
        "print(\"There are {} possible sample variations.\".format(len(combos)))\n",
        "num = 0 # Initialize numerator\n",
        "for xi, yi in combos:\n",
        "    diff_mu_ai_bi = np.mean(xi) - np.mean(yi)\n",
        "    if diff_mu_xi_yi >= diff_mu_x_y:\n",
        "        num +=1\n",
        "p_val = num / len(combos)\n",
        "print('P-value: {}'.format(p_val))"
      ],
      "metadata": {
        "colab": {
          "base_uri": "https://localhost:8080/",
          "height": 263
        },
        "id": "SwdCuwZdLlU5",
        "outputId": "7df1f4cc-1db8-4479-814b-6a83a0a3b674"
      },
      "execution_count": 16,
      "outputs": [
        {
          "output_type": "stream",
          "name": "stdout",
          "text": [
            "There are 9657700 possible sample variations.\n"
          ]
        },
        {
          "output_type": "error",
          "ename": "NameError",
          "evalue": "ignored",
          "traceback": [
            "\u001b[0;31m---------------------------------------------------------------------------\u001b[0m",
            "\u001b[0;31mNameError\u001b[0m                                 Traceback (most recent call last)",
            "\u001b[0;32m<ipython-input-16-64ed4105b73e>\u001b[0m in \u001b[0;36m<module>\u001b[0;34m\u001b[0m\n\u001b[1;32m      5\u001b[0m \u001b[0;32mfor\u001b[0m \u001b[0mxi\u001b[0m\u001b[0;34m,\u001b[0m \u001b[0myi\u001b[0m \u001b[0;32min\u001b[0m \u001b[0mcombos\u001b[0m\u001b[0;34m:\u001b[0m\u001b[0;34m\u001b[0m\u001b[0;34m\u001b[0m\u001b[0m\n\u001b[1;32m      6\u001b[0m     \u001b[0mdiff_mu_ai_bi\u001b[0m \u001b[0;34m=\u001b[0m \u001b[0mnp\u001b[0m\u001b[0;34m.\u001b[0m\u001b[0mmean\u001b[0m\u001b[0;34m(\u001b[0m\u001b[0mxi\u001b[0m\u001b[0;34m)\u001b[0m \u001b[0;34m-\u001b[0m \u001b[0mnp\u001b[0m\u001b[0;34m.\u001b[0m\u001b[0mmean\u001b[0m\u001b[0;34m(\u001b[0m\u001b[0myi\u001b[0m\u001b[0;34m)\u001b[0m\u001b[0;34m\u001b[0m\u001b[0;34m\u001b[0m\u001b[0m\n\u001b[0;32m----> 7\u001b[0;31m     \u001b[0;32mif\u001b[0m \u001b[0mdiff_mu_xi_yi\u001b[0m \u001b[0;34m>=\u001b[0m \u001b[0mdiff_mu_x_y\u001b[0m\u001b[0;34m:\u001b[0m\u001b[0;34m\u001b[0m\u001b[0;34m\u001b[0m\u001b[0m\n\u001b[0m\u001b[1;32m      8\u001b[0m         \u001b[0mnum\u001b[0m \u001b[0;34m+=\u001b[0m\u001b[0;36m1\u001b[0m\u001b[0;34m\u001b[0m\u001b[0;34m\u001b[0m\u001b[0m\n\u001b[1;32m      9\u001b[0m \u001b[0mp_val\u001b[0m \u001b[0;34m=\u001b[0m \u001b[0mnum\u001b[0m \u001b[0;34m/\u001b[0m \u001b[0mlen\u001b[0m\u001b[0;34m(\u001b[0m\u001b[0mcombos\u001b[0m\u001b[0;34m)\u001b[0m\u001b[0;34m\u001b[0m\u001b[0;34m\u001b[0m\u001b[0m\n",
            "\u001b[0;31mNameError\u001b[0m: name 'diff_mu_xi_yi' is not defined"
          ]
        }
      ]
    },
    {
      "cell_type": "markdown",
      "source": [
        "Repeating the same example in a T-test "
      ],
      "metadata": {
        "id": "aDQCiXIYNaOa"
      }
    },
    {
      "cell_type": "code",
      "source": [
        "import scipy.stats as stats"
      ],
      "metadata": {
        "id": "eG-yKn_gNk7A"
      },
      "execution_count": 14,
      "outputs": []
    },
    {
      "cell_type": "code",
      "source": [
        "num = np.mean(x) - np.mean(y)\n",
        "s = np.var(x+y)\n",
        "n = len(x+y)\n",
        "denom = s/np.sqrt(n)\n",
        "t = num/denom\n",
        "pval = stats.t.sf(np.abs(t),n-1)*2\n",
        "print(pval)"
      ],
      "metadata": {
        "colab": {
          "base_uri": "https://localhost:8080/"
        },
        "id": "jmBpMa0dNsrd",
        "outputId": "c426e408-1465-4b07-bf8a-42b29c0e3c03"
      },
      "execution_count": 18,
      "outputs": [
        {
          "output_type": "stream",
          "name": "stdout",
          "text": [
            "0.6196331755824978\n"
          ]
        }
      ]
    },
    {
      "cell_type": "markdown",
      "source": [
        "***BOOTSTRAP MATHOD***"
      ],
      "metadata": {
        "id": "ufae5miwPlnf"
      }
    },
    {
      "cell_type": "markdown",
      "source": [
        "The bootstrap method is a resampling technique used to estimate statistics on a population by sampling a dataset with replacement. It can be used to estimate summary statistics such as the mean or standard deviation."
      ],
      "metadata": {
        "id": "DOjHAxK6QTcM"
      }
    },
    {
      "cell_type": "code",
      "source": [],
      "metadata": {
        "id": "4GgtSxkcQUiQ"
      },
      "execution_count": null,
      "outputs": []
    },
    {
      "cell_type": "markdown",
      "source": [
        "*BOOTSTRAP METHOD IN PYTHON*"
      ],
      "metadata": {
        "id": "97WaElIRQYR7"
      }
    },
    {
      "cell_type": "markdown",
      "source": [
        "Bootstrap sampling works by combining two distinct samples into a universal set and generating random samples from this combined sample space in order to compare these random splits to the two original samples. The idea is to see if the difference between the two original samples is statistically significant. If similar differences can be observed through the random generation of samples, then the observed differences are not actually significant.\n",
        "\n",
        "Write a function to perform bootstrap sampling. The function should take in two samples A and B. The two samples need not be the same size. From this, create a universal sample by combining A and B. Then, create a resampled universal sample of the same size using random sampling with replacement. Finally, split this randomly generated universal set into two samples which are the same size as the original samples, A and B. The function should return these resampled samples."
      ],
      "metadata": {
        "id": "HjuQGJN4Rj4p"
      }
    },
    {
      "cell_type": "code",
      "source": [
        "def bootstrap(A, B):\n",
        "    universe = list(A) + list(B)\n",
        "    universe_shuffled = np.random.choice(universe, size=len(universe), replace=True)\n",
        "    new_a = universe_shuffled[:len(A)]\n",
        "    new_b = universe_shuffled[len(A):]\n",
        "    return new_a, new_b"
      ],
      "metadata": {
        "id": "InI_AvMyQhZr"
      },
      "execution_count": 19,
      "outputs": []
    },
    {
      "cell_type": "markdown",
      "source": [
        "*EXAMPLE*"
      ],
      "metadata": {
        "id": "lUxQ6hPVRz2A"
      }
    },
    {
      "cell_type": "markdown",
      "source": [
        "Compute the difference between the sample means of A and B\n",
        "Initialize a counter for the number of times the difference of the means of resampled samples is greater then or equal to the difference of the means of the original samples\n",
        "Repeat the following process 10,000 times:\n",
        "Use the bootstrap sampling function you used above to create new resampled versions of A and B\n",
        "Compute the difference between the means of these resampled samples\n",
        "If the difference between the means of the resampled samples is greater then or equal to the original difference, add 1 the counter you created in step 2\n",
        "Compute the ratio between the counter and the number of simulations (10,000) that you performed\n",
        "This ratio is the percentage of simulations in which the difference of sample means was greater than the original difference"
      ],
      "metadata": {
        "id": "oTIF-JQHR8xH"
      }
    },
    {
      "cell_type": "code",
      "source": [
        "#using the same data for x and y we perfom a bootstrap test\n",
        "iterations = 10**4\n",
        "diff_mu_x_y = np.mean(x) - np.mean(y)\n",
        "num = 0\n",
        "for n in range(iterations):\n",
        "  xi, yi = bootstrap(x, y)\n",
        "  diff_mu_xi_yi = np.mean(xi)-np.mean(yi)\n",
        "  if diff_mu_xi_yi>=diff_mu_x_y:\n",
        "    num += 1\n",
        "pval = num/iterations\n",
        "print(\"p_valus: {}\".format(pval))"
      ],
      "metadata": {
        "colab": {
          "base_uri": "https://localhost:8080/"
        },
        "id": "A7Bg3wLwRp17",
        "outputId": "973e8f81-fb30-4b32-e7bd-f52fb1a1f4c7"
      },
      "execution_count": 21,
      "outputs": [
        {
          "output_type": "stream",
          "name": "stdout",
          "text": [
            "p_valus: 0.9879\n"
          ]
        }
      ]
    },
    {
      "cell_type": "code",
      "source": [],
      "metadata": {
        "id": "kSluPwF2UJbb"
      },
      "execution_count": null,
      "outputs": []
    }
  ]
}