{
  "nbformat": 4,
  "nbformat_minor": 0,
  "metadata": {
    "colab": {
      "provenance": [],
      "authorship_tag": "ABX9TyM33qWSuClF53/bqb+TGE/V",
      "include_colab_link": true
    },
    "kernelspec": {
      "name": "python3",
      "display_name": "Python 3"
    },
    "language_info": {
      "name": "python"
    }
  },
  "cells": [
    {
      "cell_type": "markdown",
      "metadata": {
        "id": "view-in-github",
        "colab_type": "text"
      },
      "source": [
        "<a href=\"https://colab.research.google.com/github/gibwanjau0/dsc-apis-lab/blob/master/linearregressionexercise.ipynb\" target=\"_parent\"><img src=\"https://colab.research.google.com/assets/colab-badge.svg\" alt=\"Open In Colab\"/></a>"
      ]
    },
    {
      "cell_type": "markdown",
      "source": [
        "**liner regression model**"
      ],
      "metadata": {
        "id": "3S1DqseBtAo1"
      }
    },
    {
      "cell_type": "code",
      "execution_count": 1,
      "metadata": {
        "id": "aTG_T5Eos9Lh"
      },
      "outputs": [],
      "source": [
        "# import necessary libraries\n",
        "import numpy as np\n",
        "import matplotlib.pyplot as plt\n",
        "from matplotlib import style\n",
        "style.use('ggplot')\n",
        "\n",
        "# Initialize arrays X and Y with given values\n",
        "# X = Independent Variable\n",
        "X = np.array([1,2,3,4,5,6,8,8,9,10], dtype=np.float64)\n",
        "# Y = Dependent Variable\n",
        "Y = np.array([7,7,8,9,9,10,10,11,11,12], dtype=np.float64)"
      ]
    },
    {
      "cell_type": "markdown",
      "source": [
        "**scatter plot**"
      ],
      "metadata": {
        "id": "odCOCjCXtQM4"
      }
    },
    {
      "cell_type": "code",
      "source": [
        "plt.scatter(X,Y);\n",
        "\n"
      ],
      "metadata": {
        "colab": {
          "base_uri": "https://localhost:8080/",
          "height": 265
        },
        "id": "5gmEzudctKA_",
        "outputId": "141a327a-4bd0-4102-bf63-af0655883583"
      },
      "execution_count": 2,
      "outputs": [
        {
          "output_type": "display_data",
          "data": {
            "text/plain": [
              "<Figure size 432x288 with 1 Axes>"
            ],
            "image/png": "[encoded data removed]"
          },
          "metadata": {}
        }
      ]
    },
    {
      "cell_type": "markdown",
      "source": [
        "Based on the plot above, does linear regression analysis seem appropriate?\n",
        "\n",
        "Yes. The relationship is very linear but not perfectly linear\n",
        "\n",
        "The best fit line should be able to explain this relationship with very low error"
      ],
      "metadata": {
        "id": "tNUZVE-KtmaQ"
      }
    },
    {
      "cell_type": "markdown",
      "source": [
        "**Calculating the Slope**"
      ],
      "metadata": {
        "id": "bpJLnxRFtx0A"
      }
    },
    {
      "cell_type": "code",
      "source": [
        "def calc_slope(x_vals, y_vals):\n",
        "    rho = np.corrcoef(x_vals, y_vals)[0][1]\n",
        "    s_y = y_vals.std()\n",
        "    s_x = x_vals.std()\n",
        "    # calculating slope estimate\n",
        "    m = rho * s_y / s_x\n",
        "    return m\n",
        "m = calc_slope(X,Y)\n",
        "m"
      ],
      "metadata": {
        "colab": {
          "base_uri": "https://localhost:8080/"
        },
        "id": "Ey9Pu8jxtdxS",
        "outputId": "238ab346-22c7-430d-f87c-3e2db5e2ef02"
      },
      "execution_count": 3,
      "outputs": [
        {
          "output_type": "execute_result",
          "data": {
            "text/plain": [
              "0.5393518518518519"
            ]
          },
          "metadata": {},
          "execution_count": 3
        }
      ]
    },
    {
      "cell_type": "markdown",
      "source": [
        "**calculating the intercept**"
      ],
      "metadata": {
        "id": "ZC78VJRWuNJC"
      }
    },
    {
      "cell_type": "code",
      "source": [
        "def calc_intercept(m, x_vals, y_vals):\n",
        "    y_mean = y_vals.mean()\n",
        "    x_mean = x_vals.mean()\n",
        "\n",
        "    # calculating intercept estimate\n",
        "    c = y_mean - m * x_mean\n",
        "    return c\n",
        "c = calc_intercept(m, X, Y)\n",
        "c"
      ],
      "metadata": {
        "colab": {
          "base_uri": "https://localhost:8080/"
        },
        "id": "ZuqqBVJluHZj",
        "outputId": "28d1d4b2-7003-45a3-a15c-308a1067ec1c"
      },
      "execution_count": 4,
      "outputs": [
        {
          "output_type": "execute_result",
          "data": {
            "text/plain": [
              "6.37962962962963"
            ]
          },
          "metadata": {},
          "execution_count": 4
        }
      ]
    },
    {
      "cell_type": "markdown",
      "source": [
        " **Predicting a New Data Point**"
      ],
      "metadata": {
        "id": "GgH3urfdupab"
      }
    },
    {
      "cell_type": "markdown",
      "source": [
        "Let's try to find a y prediction for a new value of  𝑥=7 ."
      ],
      "metadata": {
        "id": "21yWo2eWu1Ey"
      }
    },
    {
      "cell_type": "code",
      "source": [
        "x_new = 7\n",
        "y_predicted = m * x_new + c\n",
        "y_predicted"
      ],
      "metadata": {
        "colab": {
          "base_uri": "https://localhost:8080/"
        },
        "id": "NoX1RgsNuZvt",
        "outputId": "da81a75a-aaeb-4768-b363-143f7d849fe1"
      },
      "execution_count": 5,
      "outputs": [
        {
          "output_type": "execute_result",
          "data": {
            "text/plain": [
              "10.155092592592592"
            ]
          },
          "metadata": {},
          "execution_count": 5
        }
      ]
    },
    {
      "cell_type": "markdown",
      "source": [
        "Write a function best_fit that takes in x and y values, calculates and prints the coefficient and intercept, and plots the original data points along with the best fit line. Be sure to reuse the functions we have already written!"
      ],
      "metadata": {
        "id": "tcul2oBNvESZ"
      }
    },
    {
      "cell_type": "code",
      "source": [
        "def best_fit(x_vals, y_vals):\n",
        "    # Create a scatter plot of x vs. y\n",
        "    fig, ax = plt.subplots()\n",
        "    ax.scatter(x_vals, y_vals, color='#003F72', label=\"Data points\")\n",
        "    # Calculate and print coefficient and intercept\n",
        "    m = calc_slope(x_vals, y_vals)\n",
        "    c = calc_intercept(m, x_vals, y_vals)\n",
        "\n",
        "    # Plot line created by coefficient and intercept\n",
        "    regression_line = m * x_vals + c\n",
        "    ax.plot(x_vals,regression_line, label= \"Regression Line\")\n",
        "    ax.legend()\n",
        "best_fit(X, Y)"
      ],
      "metadata": {
        "colab": {
          "base_uri": "https://localhost:8080/",
          "height": 265
        },
        "id": "RJwuD3-xu6j5",
        "outputId": "239b6da2-3ffa-480d-ee96-e61fc8e6c116"
      },
      "execution_count": 6,
      "outputs": [
        {
          "output_type": "display_data",
          "data": {
            "text/plain": [
              "<Figure size 432x288 with 1 Axes>"
            ],
            "image/png": "[encoded data removed]"
          },
          "metadata": {}
        }
      ]
    },
    {
      "cell_type": "markdown",
      "source": [
        "**Describe your Model Mathematically and in Words**"
      ],
      "metadata": {
        "id": "vvFO884EvQP0"
      }
    },
    {
      "cell_type": "code",
      "source": [
        "#The overall formula is  𝑦=0.53𝑥+6.37 .\n",
        "\n",
        "#The intercept (where the line crosses the y-axis) is at 6.37. This means that if x is equal to 0, the value of y would be 6.37.\n",
        "\n",
        "#The slope of the line is 0.53. This means that every increase of 1 in the value of x is associated with an increase of 0.53 in the value of y.\n"
      ],
      "metadata": {
        "id": "p7uLaGBWvLRZ"
      },
      "execution_count": 7,
      "outputs": []
    },
    {
      "cell_type": "code",
      "source": [],
      "metadata": {
        "id": "xhOppPAVvZzA"
      },
      "execution_count": null,
      "outputs": []
    }
  ]
}